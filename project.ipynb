{
  "nbformat": 4,
  "nbformat_minor": 0,
  "metadata": {
    "colab": {
      "provenance": [],
      "authorship_tag": "ABX9TyMBUQf40h1/I15ACgEizfc3",
      "include_colab_link": true
    },
    "kernelspec": {
      "name": "python3",
      "display_name": "Python 3"
    },
    "language_info": {
      "name": "python"
    }
  },
  "cells": [
    {
      "cell_type": "markdown",
      "metadata": {
        "id": "view-in-github",
        "colab_type": "text"
      },
      "source": [
        "<a href=\"https://colab.research.google.com/github/hoonzi-s/SmartChian/blob/main/project.ipynb\" target=\"_parent\"><img src=\"https://colab.research.google.com/assets/colab-badge.svg\" alt=\"Open In Colab\"/></a>"
      ]
    },
    {
      "cell_type": "code",
      "execution_count": 2,
      "metadata": {
        "id": "m_qE-osORS3t"
      },
      "outputs": [],
      "source": [
        "import pandas as pd\n",
        "from google.colab import drive\n",
        "drive.mount('/content/drive')"
      ]
    },
    {
      "cell_type": "code",
      "source": [
        "df0 = pd.read_csv('/content/drive/MyDrive/스마트치안/KP2020.csv', encoding = 'euc-kr')\n",
        "df1 = pd.read_csv('/content/drive/MyDrive/스마트치안/KP2021.csv', encoding = 'euc-kr')\n",
        "df = pd.concat([df0, df1])"
      ],
      "metadata": {
        "id": "DOFwUD3ZRUz8"
      },
      "execution_count": 31,
      "outputs": []
    },
    {
      "cell_type": "code",
      "source": [
        "df.info()"
      ],
      "metadata": {
        "colab": {
          "base_uri": "https://localhost:8080/"
        },
        "id": "pRfcwmQzgaJ3",
        "outputId": "e6eed7c7-745b-4c1d-c4f5-d59f5bcb22e9"
      },
      "execution_count": 32,
      "outputs": [
        {
          "output_type": "stream",
          "name": "stdout",
          "text": [
            "<class 'pandas.core.frame.DataFrame'>\n",
            "Int64Index: 2671137 entries, 0 to 2594059\n",
            "Data columns (total 10 columns):\n",
            " #   Column         Dtype  \n",
            "---  ------         -----  \n",
            " 0   RECV_DEPT_NM   object \n",
            " 1   RECV_CPLT_DM   object \n",
            " 2   NPA_CL         int64  \n",
            " 3   EVT_STAT_CD    int64  \n",
            " 4   EVT_CL_CD      int64  \n",
            " 5   RPTER_SEX      float64\n",
            " 6   HPPN_PNU_ADDR  object \n",
            " 7   HPPN_X         float64\n",
            " 8   HPPN_Y         float64\n",
            " 9   SME_EVT_YN     object \n",
            "dtypes: float64(3), int64(3), object(4)\n",
            "memory usage: 224.2+ MB\n"
          ]
        }
      ]
    },
    {
      "cell_type": "code",
      "source": [
        "df.NPA_CL.value_counts().sort_index()"
      ],
      "metadata": {
        "id": "X5p7rlPZRX0p",
        "colab": {
          "base_uri": "https://localhost:8080/"
        },
        "outputId": "762f603c-4200-46a4-e9f3-6a8cc0faa923"
      },
      "execution_count": 33,
      "outputs": [
        {
          "output_type": "execute_result",
          "data": {
            "text/plain": [
              "8        5348\n",
              "9         685\n",
              "10        543\n",
              "11       1215\n",
              "12        458\n",
              "13    1065727\n",
              "14        198\n",
              "15       7811\n",
              "16        908\n",
              "17        612\n",
              "18       6395\n",
              "19    1479674\n",
              "20       3039\n",
              "21        998\n",
              "22        865\n",
              "23        652\n",
              "24        259\n",
              "31      95750\n",
              "Name: NPA_CL, dtype: int64"
            ]
          },
          "metadata": {},
          "execution_count": 33
        }
      ]
    },
    {
      "cell_type": "code",
      "source": [
        "df = df.loc[df.NPA_CL.isin([13, 19, 31]), :]\n",
        "df.info()"
      ],
      "metadata": {
        "colab": {
          "base_uri": "https://localhost:8080/"
        },
        "id": "vehfugUHhvZK",
        "outputId": "45ea31f4-0903-4b70-dba9-0c358ac857cc"
      },
      "execution_count": 11,
      "outputs": [
        {
          "output_type": "stream",
          "name": "stdout",
          "text": [
            "<class 'pandas.core.frame.DataFrame'>\n",
            "Int64Index: 76326 entries, 0 to 77076\n",
            "Data columns (total 10 columns):\n",
            " #   Column         Non-Null Count  Dtype  \n",
            "---  ------         --------------  -----  \n",
            " 0   RECV_DEPT_NM   76326 non-null  object \n",
            " 1   RECV_CPLT_DM   76326 non-null  object \n",
            " 2   NPA_CL         76326 non-null  int64  \n",
            " 3   EVT_STAT_CD    76326 non-null  int64  \n",
            " 4   EVT_CL_CD      76326 non-null  int64  \n",
            " 5   RPTER_SEX      73907 non-null  float64\n",
            " 6   HPPN_PNU_ADDR  47054 non-null  object \n",
            " 7   HPPN_X         59563 non-null  float64\n",
            " 8   HPPN_Y         59563 non-null  float64\n",
            " 9   SME_EVT_YN     13299 non-null  object \n",
            "dtypes: float64(3), int64(3), object(4)\n",
            "memory usage: 6.4+ MB\n"
          ]
        }
      ]
    },
    {
      "cell_type": "code",
      "source": [
        "df.RECV_DEPT_NM.value_counts()"
      ],
      "metadata": {
        "colab": {
          "base_uri": "https://localhost:8080/"
        },
        "id": "Gjvz4YaiiLY9",
        "outputId": "1ee945ad-0425-4c3f-c0ff-baecea479d08"
      },
      "execution_count": 12,
      "outputs": [
        {
          "output_type": "execute_result",
          "data": {
            "text/plain": [
              "충남청         41326\n",
              "대전청         34366\n",
              "2지구대(충남)       95\n",
              "대전역지구대         89\n",
              "남대전지구대         70\n",
              "대전동부           64\n",
              "서대전지구대         60\n",
              "대전둔산           55\n",
              "대전유성           48\n",
              "대전중부           47\n",
              "대전서부           47\n",
              "대전대덕           34\n",
              "세종             14\n",
              "세종청            11\n",
              "Name: RECV_DEPT_NM, dtype: int64"
            ]
          },
          "metadata": {},
          "execution_count": 12
        }
      ]
    },
    {
      "cell_type": "code",
      "source": [
        "df.EVT_CL_CD.value_counts().sort_index()"
      ],
      "metadata": {
        "colab": {
          "base_uri": "https://localhost:8080/"
        },
        "id": "fjDyl5mNiehA",
        "outputId": "6f512c4e-9f55-4a8c-b122-aee523cd5263"
      },
      "execution_count": 15,
      "outputs": [
        {
          "output_type": "execute_result",
          "data": {
            "text/plain": [
              "104     1106\n",
              "105        8\n",
              "106       73\n",
              "107     1102\n",
              "108      108\n",
              "109       33\n",
              "201     1837\n",
              "202      398\n",
              "204       40\n",
              "205      398\n",
              "206      382\n",
              "207       63\n",
              "208      331\n",
              "209      142\n",
              "210     1523\n",
              "211      281\n",
              "212       26\n",
              "213       27\n",
              "214       12\n",
              "215     1637\n",
              "301     2574\n",
              "302     2092\n",
              "303      284\n",
              "304      327\n",
              "305      982\n",
              "306      891\n",
              "307     6191\n",
              "308      211\n",
              "401     6150\n",
              "402     1287\n",
              "403      500\n",
              "405        1\n",
              "406     1260\n",
              "501    16295\n",
              "502      174\n",
              "503      622\n",
              "504       18\n",
              "505      233\n",
              "506      559\n",
              "507       57\n",
              "508      378\n",
              "509      453\n",
              "601    21966\n",
              "602      172\n",
              "603       78\n",
              "604     1311\n",
              "606      978\n",
              "607       68\n",
              "609      641\n",
              "610       46\n",
              "Name: EVT_CL_CD, dtype: int64"
            ]
          },
          "metadata": {},
          "execution_count": 15
        }
      ]
    },
    {
      "cell_type": "code",
      "source": [
        "phishing = df.loc[df.EVT_CL_CD == 215]\n",
        "display(pd.DataFrame(phishing.info()))\n",
        "display(phishing.head())"
      ],
      "metadata": {
        "colab": {
          "base_uri": "https://localhost:8080/",
          "height": 550
        },
        "id": "7EclVJ7ai4Nq",
        "outputId": "ea4370d0-429d-4b9c-f75d-7aff2d821745"
      },
      "execution_count": 26,
      "outputs": [
        {
          "output_type": "stream",
          "name": "stdout",
          "text": [
            "<class 'pandas.core.frame.DataFrame'>\n",
            "Int64Index: 1637 entries, 333 to 76725\n",
            "Data columns (total 10 columns):\n",
            " #   Column         Non-Null Count  Dtype  \n",
            "---  ------         --------------  -----  \n",
            " 0   RECV_DEPT_NM   1637 non-null   object \n",
            " 1   RECV_CPLT_DM   1637 non-null   object \n",
            " 2   NPA_CL         1637 non-null   int64  \n",
            " 3   EVT_STAT_CD    1637 non-null   int64  \n",
            " 4   EVT_CL_CD      1637 non-null   int64  \n",
            " 5   RPTER_SEX      1637 non-null   float64\n",
            " 6   HPPN_PNU_ADDR  1498 non-null   object \n",
            " 7   HPPN_X         1614 non-null   float64\n",
            " 8   HPPN_Y         1614 non-null   float64\n",
            " 9   SME_EVT_YN     198 non-null    object \n",
            "dtypes: float64(3), int64(3), object(4)\n",
            "memory usage: 140.7+ KB\n"
          ]
        },
        {
          "output_type": "display_data",
          "data": {
            "text/plain": [
              "Empty DataFrame\n",
              "Columns: []\n",
              "Index: []"
            ],
            "text/html": [
              "\n",
              "  <div id=\"df-6a187853-d55d-4bd5-b46a-56d4fe56da4c\">\n",
              "    <div class=\"colab-df-container\">\n",
              "      <div>\n",
              "<style scoped>\n",
              "    .dataframe tbody tr th:only-of-type {\n",
              "        vertical-align: middle;\n",
              "    }\n",
              "\n",
              "    .dataframe tbody tr th {\n",
              "        vertical-align: top;\n",
              "    }\n",
              "\n",
              "    .dataframe thead th {\n",
              "        text-align: right;\n",
              "    }\n",
              "</style>\n",
              "<table border=\"1\" class=\"dataframe\">\n",
              "  <thead>\n",
              "    <tr style=\"text-align: right;\">\n",
              "      <th></th>\n",
              "    </tr>\n",
              "  </thead>\n",
              "  <tbody>\n",
              "  </tbody>\n",
              "</table>\n",
              "</div>\n",
              "      <button class=\"colab-df-convert\" onclick=\"convertToInteractive('df-6a187853-d55d-4bd5-b46a-56d4fe56da4c')\"\n",
              "              title=\"Convert this dataframe to an interactive table.\"\n",
              "              style=\"display:none;\">\n",
              "        \n",
              "  <svg xmlns=\"http://www.w3.org/2000/svg\" height=\"24px\"viewBox=\"0 0 24 24\"\n",
              "       width=\"24px\">\n",
              "    <path d=\"M0 0h24v24H0V0z\" fill=\"none\"/>\n",
              "    <path d=\"M18.56 5.44l.94 2.06.94-2.06 2.06-.94-2.06-.94-.94-2.06-.94 2.06-2.06.94zm-11 1L8.5 8.5l.94-2.06 2.06-.94-2.06-.94L8.5 2.5l-.94 2.06-2.06.94zm10 10l.94 2.06.94-2.06 2.06-.94-2.06-.94-.94-2.06-.94 2.06-2.06.94z\"/><path d=\"M17.41 7.96l-1.37-1.37c-.4-.4-.92-.59-1.43-.59-.52 0-1.04.2-1.43.59L10.3 9.45l-7.72 7.72c-.78.78-.78 2.05 0 2.83L4 21.41c.39.39.9.59 1.41.59.51 0 1.02-.2 1.41-.59l7.78-7.78 2.81-2.81c.8-.78.8-2.07 0-2.86zM5.41 20L4 18.59l7.72-7.72 1.47 1.35L5.41 20z\"/>\n",
              "  </svg>\n",
              "      </button>\n",
              "      \n",
              "  <style>\n",
              "    .colab-df-container {\n",
              "      display:flex;\n",
              "      flex-wrap:wrap;\n",
              "      gap: 12px;\n",
              "    }\n",
              "\n",
              "    .colab-df-convert {\n",
              "      background-color: #E8F0FE;\n",
              "      border: none;\n",
              "      border-radius: 50%;\n",
              "      cursor: pointer;\n",
              "      display: none;\n",
              "      fill: #1967D2;\n",
              "      height: 32px;\n",
              "      padding: 0 0 0 0;\n",
              "      width: 32px;\n",
              "    }\n",
              "\n",
              "    .colab-df-convert:hover {\n",
              "      background-color: #E2EBFA;\n",
              "      box-shadow: 0px 1px 2px rgba(60, 64, 67, 0.3), 0px 1px 3px 1px rgba(60, 64, 67, 0.15);\n",
              "      fill: #174EA6;\n",
              "    }\n",
              "\n",
              "    [theme=dark] .colab-df-convert {\n",
              "      background-color: #3B4455;\n",
              "      fill: #D2E3FC;\n",
              "    }\n",
              "\n",
              "    [theme=dark] .colab-df-convert:hover {\n",
              "      background-color: #434B5C;\n",
              "      box-shadow: 0px 1px 3px 1px rgba(0, 0, 0, 0.15);\n",
              "      filter: drop-shadow(0px 1px 2px rgba(0, 0, 0, 0.3));\n",
              "      fill: #FFFFFF;\n",
              "    }\n",
              "  </style>\n",
              "\n",
              "      <script>\n",
              "        const buttonEl =\n",
              "          document.querySelector('#df-6a187853-d55d-4bd5-b46a-56d4fe56da4c button.colab-df-convert');\n",
              "        buttonEl.style.display =\n",
              "          google.colab.kernel.accessAllowed ? 'block' : 'none';\n",
              "\n",
              "        async function convertToInteractive(key) {\n",
              "          const element = document.querySelector('#df-6a187853-d55d-4bd5-b46a-56d4fe56da4c');\n",
              "          const dataTable =\n",
              "            await google.colab.kernel.invokeFunction('convertToInteractive',\n",
              "                                                     [key], {});\n",
              "          if (!dataTable) return;\n",
              "\n",
              "          const docLinkHtml = 'Like what you see? Visit the ' +\n",
              "            '<a target=\"_blank\" href=https://colab.research.google.com/notebooks/data_table.ipynb>data table notebook</a>'\n",
              "            + ' to learn more about interactive tables.';\n",
              "          element.innerHTML = '';\n",
              "          dataTable['output_type'] = 'display_data';\n",
              "          await google.colab.output.renderOutput(dataTable, element);\n",
              "          const docLink = document.createElement('div');\n",
              "          docLink.innerHTML = docLinkHtml;\n",
              "          element.appendChild(docLink);\n",
              "        }\n",
              "      </script>\n",
              "    </div>\n",
              "  </div>\n",
              "  "
            ]
          },
          "metadata": {}
        },
        {
          "output_type": "display_data",
          "data": {
            "text/plain": [
              "    RECV_DEPT_NM                 RECV_CPLT_DM  NPA_CL  EVT_STAT_CD  EVT_CL_CD  \\\n",
              "333          충남청  20/12/01 15:06:38.000000000      19           10        215   \n",
              "360          충남청  20/12/01 14:53:20.000000000      19           10        215   \n",
              "367          충남청  20/12/01 11:15:43.000000000      19           10        215   \n",
              "372          충남청  20/12/01 13:08:09.000000000      19           10        215   \n",
              "375          충남청  20/12/01 14:00:07.000000000      19           10        215   \n",
              "\n",
              "     RPTER_SEX                           HPPN_PNU_ADDR      HPPN_X     HPPN_Y  \\\n",
              "333        1.0         충청남도 아산시 온천동(온양1동) 1556(신학산텔레콤)  127.001705  36.786898   \n",
              "360        2.0            충청남도 공주시 우성면 동대리(행정:우성면) 173  127.052120  36.470196   \n",
              "367        2.0               충청남도 공주시 반포면 공암리(행정:반포면)   127.251164  36.395766   \n",
              "372        1.0          충청남도 아산시 음봉면 삼거리(행정:음봉면) 203-3  127.012487  36.849074   \n",
              "375        1.0  충청남도 천안시 동남구 다가동(일봉동) 354-1(농협중앙회봉명지점)  127.140700  36.802345   \n",
              "\n",
              "    SME_EVT_YN  \n",
              "333        NaN  \n",
              "360        NaN  \n",
              "367        NaN  \n",
              "372        NaN  \n",
              "375        NaN  "
            ],
            "text/html": [
              "\n",
              "  <div id=\"df-cf98f106-bdc4-4b52-8cd1-fbf1dcd34046\">\n",
              "    <div class=\"colab-df-container\">\n",
              "      <div>\n",
              "<style scoped>\n",
              "    .dataframe tbody tr th:only-of-type {\n",
              "        vertical-align: middle;\n",
              "    }\n",
              "\n",
              "    .dataframe tbody tr th {\n",
              "        vertical-align: top;\n",
              "    }\n",
              "\n",
              "    .dataframe thead th {\n",
              "        text-align: right;\n",
              "    }\n",
              "</style>\n",
              "<table border=\"1\" class=\"dataframe\">\n",
              "  <thead>\n",
              "    <tr style=\"text-align: right;\">\n",
              "      <th></th>\n",
              "      <th>RECV_DEPT_NM</th>\n",
              "      <th>RECV_CPLT_DM</th>\n",
              "      <th>NPA_CL</th>\n",
              "      <th>EVT_STAT_CD</th>\n",
              "      <th>EVT_CL_CD</th>\n",
              "      <th>RPTER_SEX</th>\n",
              "      <th>HPPN_PNU_ADDR</th>\n",
              "      <th>HPPN_X</th>\n",
              "      <th>HPPN_Y</th>\n",
              "      <th>SME_EVT_YN</th>\n",
              "    </tr>\n",
              "  </thead>\n",
              "  <tbody>\n",
              "    <tr>\n",
              "      <th>333</th>\n",
              "      <td>충남청</td>\n",
              "      <td>20/12/01 15:06:38.000000000</td>\n",
              "      <td>19</td>\n",
              "      <td>10</td>\n",
              "      <td>215</td>\n",
              "      <td>1.0</td>\n",
              "      <td>충청남도 아산시 온천동(온양1동) 1556(신학산텔레콤)</td>\n",
              "      <td>127.001705</td>\n",
              "      <td>36.786898</td>\n",
              "      <td>NaN</td>\n",
              "    </tr>\n",
              "    <tr>\n",
              "      <th>360</th>\n",
              "      <td>충남청</td>\n",
              "      <td>20/12/01 14:53:20.000000000</td>\n",
              "      <td>19</td>\n",
              "      <td>10</td>\n",
              "      <td>215</td>\n",
              "      <td>2.0</td>\n",
              "      <td>충청남도 공주시 우성면 동대리(행정:우성면) 173</td>\n",
              "      <td>127.052120</td>\n",
              "      <td>36.470196</td>\n",
              "      <td>NaN</td>\n",
              "    </tr>\n",
              "    <tr>\n",
              "      <th>367</th>\n",
              "      <td>충남청</td>\n",
              "      <td>20/12/01 11:15:43.000000000</td>\n",
              "      <td>19</td>\n",
              "      <td>10</td>\n",
              "      <td>215</td>\n",
              "      <td>2.0</td>\n",
              "      <td>충청남도 공주시 반포면 공암리(행정:반포면)</td>\n",
              "      <td>127.251164</td>\n",
              "      <td>36.395766</td>\n",
              "      <td>NaN</td>\n",
              "    </tr>\n",
              "    <tr>\n",
              "      <th>372</th>\n",
              "      <td>충남청</td>\n",
              "      <td>20/12/01 13:08:09.000000000</td>\n",
              "      <td>19</td>\n",
              "      <td>10</td>\n",
              "      <td>215</td>\n",
              "      <td>1.0</td>\n",
              "      <td>충청남도 아산시 음봉면 삼거리(행정:음봉면) 203-3</td>\n",
              "      <td>127.012487</td>\n",
              "      <td>36.849074</td>\n",
              "      <td>NaN</td>\n",
              "    </tr>\n",
              "    <tr>\n",
              "      <th>375</th>\n",
              "      <td>충남청</td>\n",
              "      <td>20/12/01 14:00:07.000000000</td>\n",
              "      <td>19</td>\n",
              "      <td>10</td>\n",
              "      <td>215</td>\n",
              "      <td>1.0</td>\n",
              "      <td>충청남도 천안시 동남구 다가동(일봉동) 354-1(농협중앙회봉명지점)</td>\n",
              "      <td>127.140700</td>\n",
              "      <td>36.802345</td>\n",
              "      <td>NaN</td>\n",
              "    </tr>\n",
              "  </tbody>\n",
              "</table>\n",
              "</div>\n",
              "      <button class=\"colab-df-convert\" onclick=\"convertToInteractive('df-cf98f106-bdc4-4b52-8cd1-fbf1dcd34046')\"\n",
              "              title=\"Convert this dataframe to an interactive table.\"\n",
              "              style=\"display:none;\">\n",
              "        \n",
              "  <svg xmlns=\"http://www.w3.org/2000/svg\" height=\"24px\"viewBox=\"0 0 24 24\"\n",
              "       width=\"24px\">\n",
              "    <path d=\"M0 0h24v24H0V0z\" fill=\"none\"/>\n",
              "    <path d=\"M18.56 5.44l.94 2.06.94-2.06 2.06-.94-2.06-.94-.94-2.06-.94 2.06-2.06.94zm-11 1L8.5 8.5l.94-2.06 2.06-.94-2.06-.94L8.5 2.5l-.94 2.06-2.06.94zm10 10l.94 2.06.94-2.06 2.06-.94-2.06-.94-.94-2.06-.94 2.06-2.06.94z\"/><path d=\"M17.41 7.96l-1.37-1.37c-.4-.4-.92-.59-1.43-.59-.52 0-1.04.2-1.43.59L10.3 9.45l-7.72 7.72c-.78.78-.78 2.05 0 2.83L4 21.41c.39.39.9.59 1.41.59.51 0 1.02-.2 1.41-.59l7.78-7.78 2.81-2.81c.8-.78.8-2.07 0-2.86zM5.41 20L4 18.59l7.72-7.72 1.47 1.35L5.41 20z\"/>\n",
              "  </svg>\n",
              "      </button>\n",
              "      \n",
              "  <style>\n",
              "    .colab-df-container {\n",
              "      display:flex;\n",
              "      flex-wrap:wrap;\n",
              "      gap: 12px;\n",
              "    }\n",
              "\n",
              "    .colab-df-convert {\n",
              "      background-color: #E8F0FE;\n",
              "      border: none;\n",
              "      border-radius: 50%;\n",
              "      cursor: pointer;\n",
              "      display: none;\n",
              "      fill: #1967D2;\n",
              "      height: 32px;\n",
              "      padding: 0 0 0 0;\n",
              "      width: 32px;\n",
              "    }\n",
              "\n",
              "    .colab-df-convert:hover {\n",
              "      background-color: #E2EBFA;\n",
              "      box-shadow: 0px 1px 2px rgba(60, 64, 67, 0.3), 0px 1px 3px 1px rgba(60, 64, 67, 0.15);\n",
              "      fill: #174EA6;\n",
              "    }\n",
              "\n",
              "    [theme=dark] .colab-df-convert {\n",
              "      background-color: #3B4455;\n",
              "      fill: #D2E3FC;\n",
              "    }\n",
              "\n",
              "    [theme=dark] .colab-df-convert:hover {\n",
              "      background-color: #434B5C;\n",
              "      box-shadow: 0px 1px 3px 1px rgba(0, 0, 0, 0.15);\n",
              "      filter: drop-shadow(0px 1px 2px rgba(0, 0, 0, 0.3));\n",
              "      fill: #FFFFFF;\n",
              "    }\n",
              "  </style>\n",
              "\n",
              "      <script>\n",
              "        const buttonEl =\n",
              "          document.querySelector('#df-cf98f106-bdc4-4b52-8cd1-fbf1dcd34046 button.colab-df-convert');\n",
              "        buttonEl.style.display =\n",
              "          google.colab.kernel.accessAllowed ? 'block' : 'none';\n",
              "\n",
              "        async function convertToInteractive(key) {\n",
              "          const element = document.querySelector('#df-cf98f106-bdc4-4b52-8cd1-fbf1dcd34046');\n",
              "          const dataTable =\n",
              "            await google.colab.kernel.invokeFunction('convertToInteractive',\n",
              "                                                     [key], {});\n",
              "          if (!dataTable) return;\n",
              "\n",
              "          const docLinkHtml = 'Like what you see? Visit the ' +\n",
              "            '<a target=\"_blank\" href=https://colab.research.google.com/notebooks/data_table.ipynb>data table notebook</a>'\n",
              "            + ' to learn more about interactive tables.';\n",
              "          element.innerHTML = '';\n",
              "          dataTable['output_type'] = 'display_data';\n",
              "          await google.colab.output.renderOutput(dataTable, element);\n",
              "          const docLink = document.createElement('div');\n",
              "          docLink.innerHTML = docLinkHtml;\n",
              "          element.appendChild(docLink);\n",
              "        }\n",
              "      </script>\n",
              "    </div>\n",
              "  </div>\n",
              "  "
            ]
          },
          "metadata": {}
        }
      ]
    },
    {
      "cell_type": "code",
      "source": [
        "phishing.EVT_STAT_CD.value_counts().sort_index()"
      ],
      "metadata": {
        "colab": {
          "base_uri": "https://localhost:8080/"
        },
        "id": "ztIS1tEqjtDV",
        "outputId": "57c28fe8-97a8-4e0c-bf3e-11f501d40a0c"
      },
      "execution_count": 27,
      "outputs": [
        {
          "output_type": "execute_result",
          "data": {
            "text/plain": [
              "5        1\n",
              "10    1636\n",
              "Name: EVT_STAT_CD, dtype: int64"
            ]
          },
          "metadata": {},
          "execution_count": 27
        }
      ]
    },
    {
      "cell_type": "code",
      "source": [
        "phishing.SME_EVT_YN.value_counts()"
      ],
      "metadata": {
        "colab": {
          "base_uri": "https://localhost:8080/"
        },
        "id": "Iznd7WjZlYi7",
        "outputId": "17822525-2a78-4aa1-f76a-31dfd031c093"
      },
      "execution_count": 28,
      "outputs": [
        {
          "output_type": "execute_result",
          "data": {
            "text/plain": [
              "Y    198\n",
              "Name: SME_EVT_YN, dtype: int64"
            ]
          },
          "metadata": {},
          "execution_count": 28
        }
      ]
    },
    {
      "cell_type": "code",
      "source": [],
      "metadata": {
        "id": "ry5WRVTEljFj"
      },
      "execution_count": null,
      "outputs": []
    }
  ]
}