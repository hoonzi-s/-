{
  "nbformat": 4,
  "nbformat_minor": 0,
  "metadata": {
    "colab": {
      "provenance": [],
      "authorship_tag": "ABX9TyPKFsbTBQWgY5DhCQCTYU6k",
      "include_colab_link": true
    },
    "kernelspec": {
      "name": "python3",
      "display_name": "Python 3"
    },
    "language_info": {
      "name": "python"
    }
  },
  "cells": [
    {
      "cell_type": "markdown",
      "metadata": {
        "id": "view-in-github",
        "colab_type": "text"
      },
      "source": [
        "<a href=\"https://colab.research.google.com/github/hoonzi-s/SmartChian/blob/main/Project.ipynb\" target=\"_parent\"><img src=\"https://colab.research.google.com/assets/colab-badge.svg\" alt=\"Open In Colab\"/></a>"
      ]
    },
    {
      "cell_type": "markdown",
      "source": [
        "# Preprocessing"
      ],
      "metadata": {
        "id": "HvRB3ZxEnUXQ"
      }
    },
    {
      "cell_type": "code",
      "execution_count": 2,
      "metadata": {
        "id": "m_qE-osORS3t"
      },
      "outputs": [],
      "source": [
        "import pandas as pd\n",
        "from google.colab import drive\n",
        "drive.mount('/content/drive')"
      ]
    },
    {
      "cell_type": "code",
      "source": [
        "# 2020, 2021 데이터 병합\n",
        "df0 = pd.read_csv('/content/drive/MyDrive/스마트치안/KP2020.csv', encoding = 'euc-kr')\n",
        "df1 = pd.read_csv('/content/drive/MyDrive/스마트치안/KP2021.csv', encoding = 'euc-kr')\n",
        "df = pd.concat([df0, df1])"
      ],
      "metadata": {
        "id": "DOFwUD3ZRUz8"
      },
      "execution_count": 34,
      "outputs": []
    },
    {
      "cell_type": "code",
      "source": [
        "df.info()"
      ],
      "metadata": {
        "colab": {
          "base_uri": "https://localhost:8080/"
        },
        "id": "pRfcwmQzgaJ3",
        "outputId": "e6eed7c7-745b-4c1d-c4f5-d59f5bcb22e9"
      },
      "execution_count": 32,
      "outputs": [
        {
          "output_type": "stream",
          "name": "stdout",
          "text": [
            "<class 'pandas.core.frame.DataFrame'>\n",
            "Int64Index: 2671137 entries, 0 to 2594059\n",
            "Data columns (total 10 columns):\n",
            " #   Column         Dtype  \n",
            "---  ------         -----  \n",
            " 0   RECV_DEPT_NM   object \n",
            " 1   RECV_CPLT_DM   object \n",
            " 2   NPA_CL         int64  \n",
            " 3   EVT_STAT_CD    int64  \n",
            " 4   EVT_CL_CD      int64  \n",
            " 5   RPTER_SEX      float64\n",
            " 6   HPPN_PNU_ADDR  object \n",
            " 7   HPPN_X         float64\n",
            " 8   HPPN_Y         float64\n",
            " 9   SME_EVT_YN     object \n",
            "dtypes: float64(3), int64(3), object(4)\n",
            "memory usage: 224.2+ MB\n"
          ]
        }
      ]
    },
    {
      "cell_type": "code",
      "source": [
        "# 13: 대전, 19: 충남, 31: 세종\n",
        "df.NPA_CL.value_counts().sort_index()"
      ],
      "metadata": {
        "id": "X5p7rlPZRX0p",
        "colab": {
          "base_uri": "https://localhost:8080/"
        },
        "outputId": "594a79a8-fb8d-4c5f-e12c-1fdac7d6bb50"
      },
      "execution_count": 35,
      "outputs": [
        {
          "output_type": "execute_result",
          "data": {
            "text/plain": [
              "8        5348\n",
              "9         685\n",
              "10        543\n",
              "11       1215\n",
              "12        458\n",
              "13    1065727\n",
              "14        198\n",
              "15       7811\n",
              "16        908\n",
              "17        612\n",
              "18       6395\n",
              "19    1479674\n",
              "20       3039\n",
              "21        998\n",
              "22        865\n",
              "23        652\n",
              "24        259\n",
              "31      95750\n",
              "Name: NPA_CL, dtype: int64"
            ]
          },
          "metadata": {},
          "execution_count": 35
        }
      ]
    },
    {
      "cell_type": "code",
      "source": [
        "# 13 19 31만 남기고 RECV_DEPT_NM 삭제\n",
        "# REPT_DEPT_NM은 접수부서임(NPA_CL이 정확함)\n",
        "df = df.loc[df.NPA_CL.isin([13, 19, 31]), :]\n",
        "df.drop('RECV_DEPT_NM', axis = 1, inplace = True)\n",
        "df.info()"
      ],
      "metadata": {
        "colab": {
          "base_uri": "https://localhost:8080/"
        },
        "id": "vehfugUHhvZK",
        "outputId": "b8e826bd-5f56-4b54-a002-5d2502588a00"
      },
      "execution_count": 39,
      "outputs": [
        {
          "output_type": "stream",
          "name": "stdout",
          "text": [
            "<class 'pandas.core.frame.DataFrame'>\n",
            "Int64Index: 2641151 entries, 0 to 2594059\n",
            "Data columns (total 9 columns):\n",
            " #   Column         Dtype  \n",
            "---  ------         -----  \n",
            " 0   RECV_CPLT_DM   object \n",
            " 1   NPA_CL         int64  \n",
            " 2   EVT_STAT_CD    int64  \n",
            " 3   EVT_CL_CD      int64  \n",
            " 4   RPTER_SEX      float64\n",
            " 5   HPPN_PNU_ADDR  object \n",
            " 6   HPPN_X         float64\n",
            " 7   HPPN_Y         float64\n",
            " 8   SME_EVT_YN     object \n",
            "dtypes: float64(3), int64(3), object(3)\n",
            "memory usage: 201.5+ MB\n"
          ]
        }
      ]
    },
    {
      "cell_type": "code",
      "source": [
        "df.EVT_CL_CD.value_counts().sort_index()"
      ],
      "metadata": {
        "colab": {
          "base_uri": "https://localhost:8080/"
        },
        "id": "fjDyl5mNiehA",
        "outputId": "4c8d1454-21ba-47aa-e981-4bda19ba2f8e"
      },
      "execution_count": 41,
      "outputs": [
        {
          "output_type": "execute_result",
          "data": {
            "text/plain": [
              "101        84\n",
              "102        53\n",
              "103        12\n",
              "104     35781\n",
              "105       382\n",
              "106      3348\n",
              "107     31760\n",
              "108      4410\n",
              "109       764\n",
              "201     61676\n",
              "202      8969\n",
              "203        61\n",
              "204      1596\n",
              "205      8167\n",
              "206     11877\n",
              "207      2596\n",
              "208      9877\n",
              "209      4296\n",
              "210     63076\n",
              "211     11116\n",
              "212      2962\n",
              "213      2062\n",
              "214       645\n",
              "215     34928\n",
              "216       863\n",
              "301     82764\n",
              "302     61923\n",
              "303     14269\n",
              "304     10314\n",
              "305     43549\n",
              "306     42142\n",
              "307    178338\n",
              "308     12327\n",
              "401    168999\n",
              "402     38433\n",
              "403     23800\n",
              "404        15\n",
              "405        36\n",
              "406     50869\n",
              "501    532791\n",
              "502      4332\n",
              "503     22373\n",
              "504       333\n",
              "505      6896\n",
              "506     21430\n",
              "507      3298\n",
              "508     14595\n",
              "509     21756\n",
              "601    876057\n",
              "602      1761\n",
              "603      2925\n",
              "604     53043\n",
              "605        55\n",
              "606     35724\n",
              "607      3805\n",
              "609      9169\n",
              "610      1669\n",
              "Name: EVT_CL_CD, dtype: int64"
            ]
          },
          "metadata": {},
          "execution_count": 41
        }
      ]
    },
    {
      "cell_type": "code",
      "source": [
        "phishing = df.loc[df.EVT_CL_CD == 215]\n",
        "display(pd.DataFrame(phishing.info()))\n",
        "display(phishing.head())"
      ],
      "metadata": {
        "colab": {
          "base_uri": "https://localhost:8080/",
          "height": 532
        },
        "id": "7EclVJ7ai4Nq",
        "outputId": "2950e0b1-a409-4d61-f004-1424db204663"
      },
      "execution_count": 42,
      "outputs": [
        {
          "output_type": "stream",
          "name": "stdout",
          "text": [
            "<class 'pandas.core.frame.DataFrame'>\n",
            "Int64Index: 34928 entries, 333 to 2594007\n",
            "Data columns (total 9 columns):\n",
            " #   Column         Non-Null Count  Dtype  \n",
            "---  ------         --------------  -----  \n",
            " 0   RECV_CPLT_DM   34928 non-null  object \n",
            " 1   NPA_CL         34928 non-null  int64  \n",
            " 2   EVT_STAT_CD    34928 non-null  int64  \n",
            " 3   EVT_CL_CD      34928 non-null  int64  \n",
            " 4   RPTER_SEX      34928 non-null  float64\n",
            " 5   HPPN_PNU_ADDR  26689 non-null  object \n",
            " 6   HPPN_X         29233 non-null  float64\n",
            " 7   HPPN_Y         29233 non-null  float64\n",
            " 8   SME_EVT_YN     4966 non-null   object \n",
            "dtypes: float64(3), int64(3), object(3)\n",
            "memory usage: 2.7+ MB\n"
          ]
        },
        {
          "output_type": "display_data",
          "data": {
            "text/plain": [
              "Empty DataFrame\n",
              "Columns: []\n",
              "Index: []"
            ],
            "text/html": [
              "\n",
              "  <div id=\"df-79454dfa-cdf7-450a-9457-559c0470224d\">\n",
              "    <div class=\"colab-df-container\">\n",
              "      <div>\n",
              "<style scoped>\n",
              "    .dataframe tbody tr th:only-of-type {\n",
              "        vertical-align: middle;\n",
              "    }\n",
              "\n",
              "    .dataframe tbody tr th {\n",
              "        vertical-align: top;\n",
              "    }\n",
              "\n",
              "    .dataframe thead th {\n",
              "        text-align: right;\n",
              "    }\n",
              "</style>\n",
              "<table border=\"1\" class=\"dataframe\">\n",
              "  <thead>\n",
              "    <tr style=\"text-align: right;\">\n",
              "      <th></th>\n",
              "    </tr>\n",
              "  </thead>\n",
              "  <tbody>\n",
              "  </tbody>\n",
              "</table>\n",
              "</div>\n",
              "      <button class=\"colab-df-convert\" onclick=\"convertToInteractive('df-79454dfa-cdf7-450a-9457-559c0470224d')\"\n",
              "              title=\"Convert this dataframe to an interactive table.\"\n",
              "              style=\"display:none;\">\n",
              "        \n",
              "  <svg xmlns=\"http://www.w3.org/2000/svg\" height=\"24px\"viewBox=\"0 0 24 24\"\n",
              "       width=\"24px\">\n",
              "    <path d=\"M0 0h24v24H0V0z\" fill=\"none\"/>\n",
              "    <path d=\"M18.56 5.44l.94 2.06.94-2.06 2.06-.94-2.06-.94-.94-2.06-.94 2.06-2.06.94zm-11 1L8.5 8.5l.94-2.06 2.06-.94-2.06-.94L8.5 2.5l-.94 2.06-2.06.94zm10 10l.94 2.06.94-2.06 2.06-.94-2.06-.94-.94-2.06-.94 2.06-2.06.94z\"/><path d=\"M17.41 7.96l-1.37-1.37c-.4-.4-.92-.59-1.43-.59-.52 0-1.04.2-1.43.59L10.3 9.45l-7.72 7.72c-.78.78-.78 2.05 0 2.83L4 21.41c.39.39.9.59 1.41.59.51 0 1.02-.2 1.41-.59l7.78-7.78 2.81-2.81c.8-.78.8-2.07 0-2.86zM5.41 20L4 18.59l7.72-7.72 1.47 1.35L5.41 20z\"/>\n",
              "  </svg>\n",
              "      </button>\n",
              "      \n",
              "  <style>\n",
              "    .colab-df-container {\n",
              "      display:flex;\n",
              "      flex-wrap:wrap;\n",
              "      gap: 12px;\n",
              "    }\n",
              "\n",
              "    .colab-df-convert {\n",
              "      background-color: #E8F0FE;\n",
              "      border: none;\n",
              "      border-radius: 50%;\n",
              "      cursor: pointer;\n",
              "      display: none;\n",
              "      fill: #1967D2;\n",
              "      height: 32px;\n",
              "      padding: 0 0 0 0;\n",
              "      width: 32px;\n",
              "    }\n",
              "\n",
              "    .colab-df-convert:hover {\n",
              "      background-color: #E2EBFA;\n",
              "      box-shadow: 0px 1px 2px rgba(60, 64, 67, 0.3), 0px 1px 3px 1px rgba(60, 64, 67, 0.15);\n",
              "      fill: #174EA6;\n",
              "    }\n",
              "\n",
              "    [theme=dark] .colab-df-convert {\n",
              "      background-color: #3B4455;\n",
              "      fill: #D2E3FC;\n",
              "    }\n",
              "\n",
              "    [theme=dark] .colab-df-convert:hover {\n",
              "      background-color: #434B5C;\n",
              "      box-shadow: 0px 1px 3px 1px rgba(0, 0, 0, 0.15);\n",
              "      filter: drop-shadow(0px 1px 2px rgba(0, 0, 0, 0.3));\n",
              "      fill: #FFFFFF;\n",
              "    }\n",
              "  </style>\n",
              "\n",
              "      <script>\n",
              "        const buttonEl =\n",
              "          document.querySelector('#df-79454dfa-cdf7-450a-9457-559c0470224d button.colab-df-convert');\n",
              "        buttonEl.style.display =\n",
              "          google.colab.kernel.accessAllowed ? 'block' : 'none';\n",
              "\n",
              "        async function convertToInteractive(key) {\n",
              "          const element = document.querySelector('#df-79454dfa-cdf7-450a-9457-559c0470224d');\n",
              "          const dataTable =\n",
              "            await google.colab.kernel.invokeFunction('convertToInteractive',\n",
              "                                                     [key], {});\n",
              "          if (!dataTable) return;\n",
              "\n",
              "          const docLinkHtml = 'Like what you see? Visit the ' +\n",
              "            '<a target=\"_blank\" href=https://colab.research.google.com/notebooks/data_table.ipynb>data table notebook</a>'\n",
              "            + ' to learn more about interactive tables.';\n",
              "          element.innerHTML = '';\n",
              "          dataTable['output_type'] = 'display_data';\n",
              "          await google.colab.output.renderOutput(dataTable, element);\n",
              "          const docLink = document.createElement('div');\n",
              "          docLink.innerHTML = docLinkHtml;\n",
              "          element.appendChild(docLink);\n",
              "        }\n",
              "      </script>\n",
              "    </div>\n",
              "  </div>\n",
              "  "
            ]
          },
          "metadata": {}
        },
        {
          "output_type": "display_data",
          "data": {
            "text/plain": [
              "                    RECV_CPLT_DM  NPA_CL  EVT_STAT_CD  EVT_CL_CD  RPTER_SEX  \\\n",
              "333  20/12/01 15:06:38.000000000      19           10        215        1.0   \n",
              "360  20/12/01 14:53:20.000000000      19           10        215        2.0   \n",
              "367  20/12/01 11:15:43.000000000      19           10        215        2.0   \n",
              "372  20/12/01 13:08:09.000000000      19           10        215        1.0   \n",
              "375  20/12/01 14:00:07.000000000      19           10        215        1.0   \n",
              "\n",
              "                              HPPN_PNU_ADDR      HPPN_X     HPPN_Y SME_EVT_YN  \n",
              "333         충청남도 아산시 온천동(온양1동) 1556(신학산텔레콤)  127.001705  36.786898        NaN  \n",
              "360            충청남도 공주시 우성면 동대리(행정:우성면) 173  127.052120  36.470196        NaN  \n",
              "367               충청남도 공주시 반포면 공암리(행정:반포면)   127.251164  36.395766        NaN  \n",
              "372          충청남도 아산시 음봉면 삼거리(행정:음봉면) 203-3  127.012487  36.849074        NaN  \n",
              "375  충청남도 천안시 동남구 다가동(일봉동) 354-1(농협중앙회봉명지점)  127.140700  36.802345        NaN  "
            ],
            "text/html": [
              "\n",
              "  <div id=\"df-64b4e6da-d179-44cc-955f-a0901b2f38b6\">\n",
              "    <div class=\"colab-df-container\">\n",
              "      <div>\n",
              "<style scoped>\n",
              "    .dataframe tbody tr th:only-of-type {\n",
              "        vertical-align: middle;\n",
              "    }\n",
              "\n",
              "    .dataframe tbody tr th {\n",
              "        vertical-align: top;\n",
              "    }\n",
              "\n",
              "    .dataframe thead th {\n",
              "        text-align: right;\n",
              "    }\n",
              "</style>\n",
              "<table border=\"1\" class=\"dataframe\">\n",
              "  <thead>\n",
              "    <tr style=\"text-align: right;\">\n",
              "      <th></th>\n",
              "      <th>RECV_CPLT_DM</th>\n",
              "      <th>NPA_CL</th>\n",
              "      <th>EVT_STAT_CD</th>\n",
              "      <th>EVT_CL_CD</th>\n",
              "      <th>RPTER_SEX</th>\n",
              "      <th>HPPN_PNU_ADDR</th>\n",
              "      <th>HPPN_X</th>\n",
              "      <th>HPPN_Y</th>\n",
              "      <th>SME_EVT_YN</th>\n",
              "    </tr>\n",
              "  </thead>\n",
              "  <tbody>\n",
              "    <tr>\n",
              "      <th>333</th>\n",
              "      <td>20/12/01 15:06:38.000000000</td>\n",
              "      <td>19</td>\n",
              "      <td>10</td>\n",
              "      <td>215</td>\n",
              "      <td>1.0</td>\n",
              "      <td>충청남도 아산시 온천동(온양1동) 1556(신학산텔레콤)</td>\n",
              "      <td>127.001705</td>\n",
              "      <td>36.786898</td>\n",
              "      <td>NaN</td>\n",
              "    </tr>\n",
              "    <tr>\n",
              "      <th>360</th>\n",
              "      <td>20/12/01 14:53:20.000000000</td>\n",
              "      <td>19</td>\n",
              "      <td>10</td>\n",
              "      <td>215</td>\n",
              "      <td>2.0</td>\n",
              "      <td>충청남도 공주시 우성면 동대리(행정:우성면) 173</td>\n",
              "      <td>127.052120</td>\n",
              "      <td>36.470196</td>\n",
              "      <td>NaN</td>\n",
              "    </tr>\n",
              "    <tr>\n",
              "      <th>367</th>\n",
              "      <td>20/12/01 11:15:43.000000000</td>\n",
              "      <td>19</td>\n",
              "      <td>10</td>\n",
              "      <td>215</td>\n",
              "      <td>2.0</td>\n",
              "      <td>충청남도 공주시 반포면 공암리(행정:반포면)</td>\n",
              "      <td>127.251164</td>\n",
              "      <td>36.395766</td>\n",
              "      <td>NaN</td>\n",
              "    </tr>\n",
              "    <tr>\n",
              "      <th>372</th>\n",
              "      <td>20/12/01 13:08:09.000000000</td>\n",
              "      <td>19</td>\n",
              "      <td>10</td>\n",
              "      <td>215</td>\n",
              "      <td>1.0</td>\n",
              "      <td>충청남도 아산시 음봉면 삼거리(행정:음봉면) 203-3</td>\n",
              "      <td>127.012487</td>\n",
              "      <td>36.849074</td>\n",
              "      <td>NaN</td>\n",
              "    </tr>\n",
              "    <tr>\n",
              "      <th>375</th>\n",
              "      <td>20/12/01 14:00:07.000000000</td>\n",
              "      <td>19</td>\n",
              "      <td>10</td>\n",
              "      <td>215</td>\n",
              "      <td>1.0</td>\n",
              "      <td>충청남도 천안시 동남구 다가동(일봉동) 354-1(농협중앙회봉명지점)</td>\n",
              "      <td>127.140700</td>\n",
              "      <td>36.802345</td>\n",
              "      <td>NaN</td>\n",
              "    </tr>\n",
              "  </tbody>\n",
              "</table>\n",
              "</div>\n",
              "      <button class=\"colab-df-convert\" onclick=\"convertToInteractive('df-64b4e6da-d179-44cc-955f-a0901b2f38b6')\"\n",
              "              title=\"Convert this dataframe to an interactive table.\"\n",
              "              style=\"display:none;\">\n",
              "        \n",
              "  <svg xmlns=\"http://www.w3.org/2000/svg\" height=\"24px\"viewBox=\"0 0 24 24\"\n",
              "       width=\"24px\">\n",
              "    <path d=\"M0 0h24v24H0V0z\" fill=\"none\"/>\n",
              "    <path d=\"M18.56 5.44l.94 2.06.94-2.06 2.06-.94-2.06-.94-.94-2.06-.94 2.06-2.06.94zm-11 1L8.5 8.5l.94-2.06 2.06-.94-2.06-.94L8.5 2.5l-.94 2.06-2.06.94zm10 10l.94 2.06.94-2.06 2.06-.94-2.06-.94-.94-2.06-.94 2.06-2.06.94z\"/><path d=\"M17.41 7.96l-1.37-1.37c-.4-.4-.92-.59-1.43-.59-.52 0-1.04.2-1.43.59L10.3 9.45l-7.72 7.72c-.78.78-.78 2.05 0 2.83L4 21.41c.39.39.9.59 1.41.59.51 0 1.02-.2 1.41-.59l7.78-7.78 2.81-2.81c.8-.78.8-2.07 0-2.86zM5.41 20L4 18.59l7.72-7.72 1.47 1.35L5.41 20z\"/>\n",
              "  </svg>\n",
              "      </button>\n",
              "      \n",
              "  <style>\n",
              "    .colab-df-container {\n",
              "      display:flex;\n",
              "      flex-wrap:wrap;\n",
              "      gap: 12px;\n",
              "    }\n",
              "\n",
              "    .colab-df-convert {\n",
              "      background-color: #E8F0FE;\n",
              "      border: none;\n",
              "      border-radius: 50%;\n",
              "      cursor: pointer;\n",
              "      display: none;\n",
              "      fill: #1967D2;\n",
              "      height: 32px;\n",
              "      padding: 0 0 0 0;\n",
              "      width: 32px;\n",
              "    }\n",
              "\n",
              "    .colab-df-convert:hover {\n",
              "      background-color: #E2EBFA;\n",
              "      box-shadow: 0px 1px 2px rgba(60, 64, 67, 0.3), 0px 1px 3px 1px rgba(60, 64, 67, 0.15);\n",
              "      fill: #174EA6;\n",
              "    }\n",
              "\n",
              "    [theme=dark] .colab-df-convert {\n",
              "      background-color: #3B4455;\n",
              "      fill: #D2E3FC;\n",
              "    }\n",
              "\n",
              "    [theme=dark] .colab-df-convert:hover {\n",
              "      background-color: #434B5C;\n",
              "      box-shadow: 0px 1px 3px 1px rgba(0, 0, 0, 0.15);\n",
              "      filter: drop-shadow(0px 1px 2px rgba(0, 0, 0, 0.3));\n",
              "      fill: #FFFFFF;\n",
              "    }\n",
              "  </style>\n",
              "\n",
              "      <script>\n",
              "        const buttonEl =\n",
              "          document.querySelector('#df-64b4e6da-d179-44cc-955f-a0901b2f38b6 button.colab-df-convert');\n",
              "        buttonEl.style.display =\n",
              "          google.colab.kernel.accessAllowed ? 'block' : 'none';\n",
              "\n",
              "        async function convertToInteractive(key) {\n",
              "          const element = document.querySelector('#df-64b4e6da-d179-44cc-955f-a0901b2f38b6');\n",
              "          const dataTable =\n",
              "            await google.colab.kernel.invokeFunction('convertToInteractive',\n",
              "                                                     [key], {});\n",
              "          if (!dataTable) return;\n",
              "\n",
              "          const docLinkHtml = 'Like what you see? Visit the ' +\n",
              "            '<a target=\"_blank\" href=https://colab.research.google.com/notebooks/data_table.ipynb>data table notebook</a>'\n",
              "            + ' to learn more about interactive tables.';\n",
              "          element.innerHTML = '';\n",
              "          dataTable['output_type'] = 'display_data';\n",
              "          await google.colab.output.renderOutput(dataTable, element);\n",
              "          const docLink = document.createElement('div');\n",
              "          docLink.innerHTML = docLinkHtml;\n",
              "          element.appendChild(docLink);\n",
              "        }\n",
              "      </script>\n",
              "    </div>\n",
              "  </div>\n",
              "  "
            ]
          },
          "metadata": {}
        }
      ]
    },
    {
      "cell_type": "code",
      "source": [
        "phishing.EVT_STAT_CD.value_counts().sort_index()"
      ],
      "metadata": {
        "colab": {
          "base_uri": "https://localhost:8080/"
        },
        "id": "ztIS1tEqjtDV",
        "outputId": "2fe7b286-daca-49b1-a185-80bcaebada0a"
      },
      "execution_count": 44,
      "outputs": [
        {
          "output_type": "execute_result",
          "data": {
            "text/plain": [
              "5         7\n",
              "7         3\n",
              "10    34918\n",
              "Name: EVT_STAT_CD, dtype: int64"
            ]
          },
          "metadata": {},
          "execution_count": 44
        }
      ]
    },
    {
      "cell_type": "code",
      "source": [
        "phishing.SME_EVT_YN.value_counts()"
      ],
      "metadata": {
        "colab": {
          "base_uri": "https://localhost:8080/"
        },
        "id": "Iznd7WjZlYi7",
        "outputId": "bb0957ba-487f-4347-da14-c899bba2deee"
      },
      "execution_count": 45,
      "outputs": [
        {
          "output_type": "execute_result",
          "data": {
            "text/plain": [
              "Y    4829\n",
              "N     137\n",
              "Name: SME_EVT_YN, dtype: int64"
            ]
          },
          "metadata": {},
          "execution_count": 45
        }
      ]
    },
    {
      "cell_type": "markdown",
      "source": [
        "<보이스피싱>\n",
        "위치 시간 연령대 인구수 소득수준 가구형태\n",
        "\n",
        "<교통사고"
      ],
      "metadata": {
        "id": "tOB1zVmPz7PC"
      }
    },
    {
      "cell_type": "code",
      "source": [
        "phishing.csv\n",
        "traffic.csv"
      ],
      "metadata": {
        "id": "ry5WRVTEljFj"
      },
      "execution_count": null,
      "outputs": []
    }
  ]
}